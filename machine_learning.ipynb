{
  "nbformat": 4,
  "nbformat_minor": 0,
  "metadata": {
    "colab": {
      "provenance": [],
      "include_colab_link": true
    },
    "kernelspec": {
      "name": "python3",
      "display_name": "Python 3"
    },
    "language_info": {
      "name": "python"
    }
  },
  "cells": [
    {
      "cell_type": "markdown",
      "metadata": {
        "id": "view-in-github",
        "colab_type": "text"
      },
      "source": [
        "<a href=\"https://colab.research.google.com/github/tugcegulsanusta/machine-learning-project/blob/main/machine_learning.ipynb\" target=\"_parent\"><img src=\"https://colab.research.google.com/assets/colab-badge.svg\" alt=\"Open In Colab\"/></a>"
      ]
    },
    {
      "cell_type": "markdown",
      "source": [
        " # Explore data\n",
        "\n"
      ],
      "metadata": {
        "id": "QeedkkImSv5l"
      }
    },
    {
      "cell_type": "code",
      "source": [
        "#import libraries\n",
        "import numpy as np\n",
        "import pandas as pd\n",
        "import matplotlib.pyplot as plt\n",
        "import seaborn as sns"
      ],
      "metadata": {
        "id": "NHHTibrQxeH4"
      },
      "execution_count": 82,
      "outputs": []
    },
    {
      "cell_type": "code",
      "source": [
        "#read data\n",
        "from google.colab import files\n",
        "uploaded = files.upload()\n",
        "df = pd.read_csv('data.csv')\n",
        "df.head()\n"
      ],
      "metadata": {
        "id": "eM0QCb3YzKCd"
      },
      "execution_count": null,
      "outputs": []
    },
    {
      "cell_type": "code",
      "source": [
        "#count NaN\n",
        "df.isna().sum()"
      ],
      "metadata": {
        "id": "8UbnawhU16z6"
      },
      "execution_count": null,
      "outputs": []
    },
    {
      "cell_type": "markdown",
      "source": [
        "# Clear data"
      ],
      "metadata": {
        "id": "x1phBke3TKfE"
      }
    },
    {
      "cell_type": "code",
      "source": [
        "df = df.dropna(axis = 1)\n",
        "df = df.drop('id', axis= 1)\n",
        "df.shape\n",
        "df.head()"
      ],
      "metadata": {
        "id": "wDvcPjqr4UR1"
      },
      "execution_count": null,
      "outputs": []
    },
    {
      "cell_type": "code",
      "source": [
        "#count the class results\n",
        "df['diagnosis'].value_counts()\n"
      ],
      "metadata": {
        "id": "i-knbKgW5Dl9"
      },
      "execution_count": null,
      "outputs": []
    },
    {
      "cell_type": "code",
      "source": [
        "#replace data M -> 1, B -> 0\n",
        "df['diagnosis'] = df['diagnosis'].replace(['M'], '1')\n",
        "df['diagnosis'] = df['diagnosis'].replace(['B'], '0')\n",
        "df['diagnosis'] = df['diagnosis'].astype('int')\n",
        "\n",
        "df.info()"
      ],
      "metadata": {
        "id": "_J8YmNT_-iwG"
      },
      "execution_count": null,
      "outputs": []
    },
    {
      "cell_type": "code",
      "source": [
        "#drop the diagnosis(Diagnosis is our class label and store it in  'y')\n",
        "y = df.diagnosis\n",
        "x = df.drop('diagnosis', axis = 1)\n",
        "x.head()"
      ],
      "metadata": {
        "id": "d25aiPHQAo_D"
      },
      "execution_count": null,
      "outputs": []
    },
    {
      "cell_type": "markdown",
      "source": [
        "# Explore relations"
      ],
      "metadata": {
        "id": "AGp-66fq-Lwt"
      }
    },
    {
      "cell_type": "code",
      "source": [
        "#first 15 columns boxplot\n",
        "plt.figure(figsize=(20,10))\n",
        "data = pd.concat([y, ((x- x.mean())/x.std()).iloc[:,0:15]], axis=1)\n",
        "data = pd.melt(data, id_vars='diagnosis', var_name='attributes', value_name='values')\n",
        "\n",
        "sns.boxplot(x='attributes', y='values', hue='diagnosis', data= data)\n",
        "plt.xticks(rotation=90)\n"
      ],
      "metadata": {
        "id": "ftnCBf2Yuvdd"
      },
      "execution_count": null,
      "outputs": []
    },
    {
      "cell_type": "code",
      "source": [
        "#last 15 columns boxplot\n",
        "plt.figure(figsize=(20,10))\n",
        "data = pd.concat([y, ((x-x.mean())/x.std()).iloc[:,15:31]], axis=1)\n",
        "data = pd.melt(data, id_vars='diagnosis', var_name='attributes', value_name='values')\n",
        "\n",
        "sns.boxplot(x='attributes', y='values', hue='diagnosis', data=data)\n",
        "plt.xticks(rotation=90)"
      ],
      "metadata": {
        "id": "G7idAQSJIEwP"
      },
      "execution_count": null,
      "outputs": []
    },
    {
      "cell_type": "code",
      "source": [
        "#find correlation between diagnosis and attributes\n",
        "df.corr()['diagnosis'].sort_values()"
      ],
      "metadata": {
        "id": "bpaAoh2uNzZY"
      },
      "execution_count": null,
      "outputs": []
    },
    {
      "cell_type": "code",
      "source": [
        "#correlation heatmap\n",
        "plt.figure(figsize = (40,40))\n",
        "sns.heatmap(df.iloc[:, 1:31].corr(), annot = True, linewidths = 1)"
      ],
      "metadata": {
        "id": "eO_dZn38wESZ"
      },
      "execution_count": null,
      "outputs": []
    },
    {
      "cell_type": "code",
      "source": [
        "#drop correlated columns\n",
        "\n",
        "x_v1 = x.drop(['perimeter_mean','area_mean', 'radius_worst', 'perimeter_worst', 'area_worst','texture_worst', 'concavity_mean','perimeter_se', 'area_se', 'concave points_worst' ], axis= 1)\n",
        "\n",
        "x_v1.shape"
      ],
      "metadata": {
        "id": "IfukycAOvHOL"
      },
      "execution_count": null,
      "outputs": []
    },
    {
      "cell_type": "code",
      "source": [
        "plt.figure(figsize = (20,20))\n",
        "sns.heatmap(x_v1.iloc[:, 1:21].corr(), annot = True, linewidths = 1)"
      ],
      "metadata": {
        "id": "HH2iOlA5wpxF"
      },
      "execution_count": null,
      "outputs": []
    },
    {
      "cell_type": "code",
      "source": [
        "#test data with random forest"
      ],
      "metadata": {
        "id": "n0FoN3R85aC7"
      },
      "execution_count": null,
      "outputs": []
    },
    {
      "cell_type": "code",
      "source": [],
      "metadata": {
        "id": "DonrPcCP5drN"
      },
      "execution_count": null,
      "outputs": []
    },
    {
      "cell_type": "code",
      "source": [
        "X = df.iloc[:, 2:31].values\n",
        "Y = df.iloc[:, 1].values\n",
        "Y = Y.astype('int')\n",
        "print(X.shape, Y.shape)"
      ],
      "metadata": {
        "id": "W-Gpf8QSxjSG",
        "colab": {
          "base_uri": "https://localhost:8080/"
        },
        "outputId": "7b11176c-1a87-4afa-c6ef-90f2945075c9"
      },
      "execution_count": 65,
      "outputs": [
        {
          "output_type": "stream",
          "name": "stdout",
          "text": [
            "(569, 29) (569,)\n"
          ]
        }
      ]
    },
    {
      "cell_type": "code",
      "source": [
        "from sklearn.model_selection import train_test_split\n",
        "X_train, X_test, Y_train, Y_test = train_test_split( X, Y , test_size= 0.30, random_state = 7)"
      ],
      "metadata": {
        "id": "T4UDA5alCz1X"
      },
      "execution_count": 66,
      "outputs": []
    },
    {
      "cell_type": "code",
      "source": [
        "from sklearn.neighbors import KNeighborsClassifier\n",
        "neighbors = np.arange(1, 13)\n",
        "train_accuracies = {}\n",
        "test_accuracies = {}\n",
        "\n",
        "for neighbor in neighbors:\n",
        "  # Set up a KNN Classifier\n",
        "  knn = KNeighborsClassifier(n_neighbors=neighbor)\n",
        "\n",
        "  # Fit the model\n",
        "  knn.fit(X_train, Y_train)\n",
        "\n",
        "  # Compute accuracy\n",
        "  train_accuracies[neighbor] = knn.score(X_train, Y_train)\n",
        "  test_accuracies[neighbor] = knn.score(X_test, Y_test)\n",
        "print(neighbors, '\\n', train_accuracies, '\\n', test_accuracies)"
      ],
      "metadata": {
        "colab": {
          "base_uri": "https://localhost:8080/"
        },
        "id": "UhKFPvXBikfH",
        "outputId": "41ae0177-3c96-44ce-b61f-a668575f477c"
      },
      "execution_count": null,
      "outputs": [
        {
          "output_type": "stream",
          "name": "stdout",
          "text": [
            "[ 1  2  3  4  5  6  7  8  9 10 11 12] \n",
            " {1: 1.0, 2: 0.914572864321608, 3: 0.9195979899497487, 4: 0.8819095477386935, 5: 0.8919597989949749, 6: 0.8592964824120602, 7: 0.8417085427135679, 8: 0.8291457286432161, 9: 0.8266331658291457, 10: 0.8140703517587939, 11: 0.8266331658291457, 12: 0.8040201005025126} \n",
            " {1: 0.8187134502923976, 2: 0.8245614035087719, 3: 0.8070175438596491, 4: 0.847953216374269, 5: 0.8070175438596491, 6: 0.8128654970760234, 7: 0.8011695906432749, 8: 0.7953216374269005, 9: 0.7719298245614035, 10: 0.7719298245614035, 11: 0.7953216374269005, 12: 0.7894736842105263}\n"
          ]
        }
      ]
    },
    {
      "cell_type": "code",
      "source": [
        "#plot the KNN results\n",
        "plt.title('KNN results')\n",
        "plt.plot(neighbors, train_accuracies.values(), label = 'Training' )\n",
        "plt.plot(neighbors, test_accuracies.values(), label = 'Test')\n",
        "plt.legend()\n",
        "plt.xlabel('Number of Neighbors')\n",
        "plt.ylabel('Acurracy')\n",
        "plt.show()"
      ],
      "metadata": {
        "colab": {
          "base_uri": "https://localhost:8080/",
          "height": 472
        },
        "id": "0MZUjGhb4fex",
        "outputId": "d19d4a83-d42c-408b-d562-0da38ce91466"
      },
      "execution_count": null,
      "outputs": [
        {
          "output_type": "display_data",
          "data": {
            "text/plain": [
              "<Figure size 640x480 with 1 Axes>"
            ],
            "image/png": "[encoded data removed]"
          },
          "metadata": {}
        }
      ]
    },
    {
      "cell_type": "code",
      "source": [
        "from sklearn.preprocessing import StandardScaler\n",
        "sc = StandardScaler()\n",
        "X_train = sc.fit_transform(X_train)\n",
        "X_test = sc.fit_transform(X_test)"
      ],
      "metadata": {
        "id": "jn-f8j_GI4sm"
      },
      "execution_count": null,
      "outputs": []
    },
    {
      "cell_type": "code",
      "source": [
        "def models(X_train, Y_train):\n",
        "  from sklearn.linear_model import LogisticRegression\n",
        "  log = LogisticRegression(random_state = 1)\n",
        "  log.fit(X_train, Y_train)\n",
        "\n",
        "  from sklearn.tree import DecisionTreeClassifier\n",
        "  tree = DecisionTreeClassifier(criterion = 'entropy', random_state= 1)\n",
        "  tree.fit(X_train, Y_train)\n",
        "\n",
        "  from sklearn.ensemble import RandomForestClassifier\n",
        "  forest = RandomForestClassifier(n_estimators = 10, criterion = 'entropy', random_state= 1)\n",
        "  forest.fit(X_train, Y_train)\n",
        "  print('Log', log.score(X_train, Y_train))\n",
        "  print('Des', tree.score(X_train, Y_train))\n",
        "  print('Forst', forest.score(X_train, Y_train))\n",
        "  return log, tree, forest"
      ],
      "metadata": {
        "id": "4yLyvmFYJwWg"
      },
      "execution_count": null,
      "outputs": []
    },
    {
      "cell_type": "code",
      "source": [
        "model = models(X_train, Y_train)\n",
        "print(model)"
      ],
      "metadata": {
        "colab": {
          "base_uri": "https://localhost:8080/"
        },
        "id": "qMqCHn51P8Bo",
        "outputId": "c87c12cf-50cf-40e8-dbb1-ceaab3ef604e"
      },
      "execution_count": null,
      "outputs": [
        {
          "output_type": "stream",
          "name": "stdout",
          "text": [
            "Log 0.6708542713567839\n",
            "Des 1.0\n",
            "Forst 0.9949748743718593\n",
            "(LogisticRegression(random_state=1), DecisionTreeClassifier(criterion='entropy', random_state=1), RandomForestClassifier(criterion='entropy', n_estimators=10, random_state=1))\n"
          ]
        },
        {
          "output_type": "stream",
          "name": "stderr",
          "text": [
            "/usr/local/lib/python3.10/dist-packages/sklearn/linear_model/_logistic.py:458: ConvergenceWarning: lbfgs failed to converge (status=1):\n",
            "STOP: TOTAL NO. of ITERATIONS REACHED LIMIT.\n",
            "\n",
            "Increase the number of iterations (max_iter) or scale the data as shown in:\n",
            "    https://scikit-learn.org/stable/modules/preprocessing.html\n",
            "Please also refer to the documentation for alternative solver options:\n",
            "    https://scikit-learn.org/stable/modules/linear_model.html#logistic-regression\n",
            "  n_iter_i = _check_optimize_result(\n"
          ]
        }
      ]
    },
    {
      "cell_type": "code",
      "source": [
        "#burda 0 yaptım, 1 ile sonuç daha kötü TP, FP, TN, FN\n",
        "from sklearn.metrics import confusion_matrix\n",
        "cm = confusion_matrix(Y_test, model[1].predict(X_test))\n",
        "\n",
        "print(cm)\n",
        "\n",
        "print('accuracy: ' , (cm[0][0] + cm[1][1])/ (cm[0][0]+cm[0][1]+cm[1][0]+cm[1][1])  )"
      ],
      "metadata": {
        "colab": {
          "base_uri": "https://localhost:8080/"
        },
        "id": "-1-XCaHfePWo",
        "outputId": "24b285d3-40ca-4332-d8ce-636c4d2cb61f"
      },
      "execution_count": null,
      "outputs": [
        {
          "output_type": "stream",
          "name": "stdout",
          "text": [
            "[[ 0  1  0  0  0  0  0  0  0  0  0  0  0  0  0  0  0  0  0  0  0]\n",
            " [ 0  0  0  0  0  0  0  0  0  0  0  0  0  0  0  0  0  0  0  0  0]\n",
            " [ 0  1  2  0  0  0  0  0  0  0  0  0  0  0  0  0  0  0  0  0  0]\n",
            " [ 0  0  2  7  0  0  0  0  0  0  0  0  0  0  0  0  0  0  0  0  0]\n",
            " [ 0  0  0  4  8  0  0  0  0  0  0  0  0  0  0  0  0  0  0  0  0]\n",
            " [ 0  0  0  0  0 18 11  0  0  0  0  0  0  0  0  0  0  0  0  0  0]\n",
            " [ 0  0  0  0  0  0 19 11  1  0  0  0  0  0  0  0  0  0  0  0  0]\n",
            " [ 0  0  0  0  0  0  1  5 15  1  0  0  0  0  0  0  0  0  0  0  0]\n",
            " [ 0  0  0  0  0  0  0  0  5 13  0  0  0  0  0  0  0  0  0  0  0]\n",
            " [ 0  0  0  0  0  0  0  0  0  2  6  2  0  0  0  0  0  0  0  0  0]\n",
            " [ 0  0  0  0  0  0  0  0  0  0  2  5  2  0  0  0  0  0  0  0  0]\n",
            " [ 0  0  0  0  0  0  0  0  0  0  0  0  3  4  0  0  0  0  0  0  0]\n",
            " [ 0  0  0  0  0  0  0  0  0  0  0  0  0  5  3  0  0  0  0  0  0]\n",
            " [ 0  0  0  0  0  0  0  0  0  0  0  0  0  0  5  1  0  0  0  0  0]\n",
            " [ 0  0  0  0  0  0  0  0  0  0  0  0  0  0  0  0  0  1  0  0  0]\n",
            " [ 0  0  0  0  0  0  0  0  0  0  0  0  0  0  0  0  0  2  0  0  0]\n",
            " [ 0  0  0  0  0  0  0  0  0  0  0  0  0  0  0  0  0  0  0  0  0]\n",
            " [ 0  0  0  0  0  0  0  0  0  0  0  0  0  0  0  0  1  0  0  0  0]\n",
            " [ 0  0  0  0  0  0  0  0  0  0  0  0  0  0  0  0  1  0  0  0  0]\n",
            " [ 0  0  0  0  0  0  0  0  0  0  0  0  0  0  0  0  0  0  0  0  1]\n",
            " [ 0  0  0  0  0  0  0  0  0  0  0  0  0  0  0  0  0  0  0  0  0]]\n",
            "accuracy:  0.0\n"
          ]
        }
      ]
    },
    {
      "cell_type": "code",
      "source": [],
      "metadata": {
        "id": "V12x8CdBe4c3"
      },
      "execution_count": null,
      "outputs": []
    }
  ]
}